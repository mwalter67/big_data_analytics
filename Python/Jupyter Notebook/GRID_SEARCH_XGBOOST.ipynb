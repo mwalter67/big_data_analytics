{
 "cells": [
  {
   "cell_type": "code",
   "execution_count": 1,
   "metadata": {},
   "outputs": [
    {
     "name": "stdout",
     "output_type": "stream",
     "text": [
      "# of columns after one-hot encoding: 13\n"
     ]
    }
   ],
   "source": [
    "import xgboost as xgb\n",
    "\n",
    "import warnings\n",
    "warnings.filterwarnings('ignore')\n",
    "\n",
    "from sklearn.metrics import mean_absolute_error\n",
    "from sklearn.metrics import r2_score\n",
    "from sklearn.metrics import mean_squared_error\n",
    "from math import sqrt\n",
    "\n",
    "from xgboost import XGBRegressor\n",
    "from sklearn.model_selection import GridSearchCV\n",
    "\n",
    "import numpy as np \n",
    "import pandas as pd \n",
    "import matplotlib.pyplot as plt\n",
    "from sklearn import metrics\n",
    "\n",
    "from sklearn.preprocessing import LabelEncoder\n",
    "\n",
    "\n",
    "# Using Skicit-learn to split data into training and testing sets\n",
    "from sklearn.model_selection import train_test_split\n",
    "\n",
    "df = pd.read_csv(\"data_clean.csv\")\n",
    "del df[\"Unnamed: 0\"]\n",
    "\n",
    "df = df[[\"gross_square_feet\",\"block\",\"land_square_feet\",\"lot\",\"age_of_building\",\"borough\",\"residential_units\",\"commercial_units\",\"total_units\",\"sale_price\"]]\n",
    "\n",
    "df['borough'] = df['borough'].astype('category')\n",
    "\n",
    "\n",
    "X, y = df.iloc[:,:-1],df.iloc[:,-1]\n",
    "\n",
    "one_hot_encoded_X = pd.get_dummies(X)\n",
    "print(\"# of columns after one-hot encoding: {0}\".format(len(one_hot_encoded_X.columns)))\n",
    "\n",
    "from sklearn.model_selection import train_test_split\n",
    "\n",
    "X_train, X_test, y_train, y_test = train_test_split(one_hot_encoded_X, y, test_size=0.25, random_state=1337)"
   ]
  },
  {
   "cell_type": "code",
   "execution_count": 2,
   "metadata": {},
   "outputs": [
    {
     "name": "stdout",
     "output_type": "stream",
     "text": [
      "Best: 0.637739 using {'eval_metric': 'rmse', 'learning_rate': 0.075, 'max_depth': 7, 'min_child_weight': 5, 'n_estimators': 500, 'njobs': 4, 'nthread': 6, 'objective': 'reg:squarederror', 'seed': 1337}\n"
     ]
    }
   ],
   "source": [
    "xgb = XGBRegressor()\n",
    "\n",
    "parameters = {\n",
    " 'n_estimators': [500,1000,2000],\n",
    " 'max_depth': [3,5,7,10],\n",
    " 'min_child_weight': [1,3,5,10],\n",
    " 'learning_rate': [0.01, 0.05, 0.075, 0.1, 0.15],\n",
    " 'eval_metric': ['rmse'],\n",
    " 'seed': [1337],\n",
    " 'objective': ['reg:squarederror'],\n",
    " 'nthread' : [6],\n",
    " 'njobs': [4],\n",
    "}\n",
    "\n",
    "\n",
    "xgb_regressor = GridSearchCV(xgb,parameters,cv=3)\n",
    "xgb_regressor = xgb_regressor.fit(X_train, y_train,\n",
    "                                  early_stopping_rounds=10,\n",
    "                                  eval_set=[(X_test, y_test)],\n",
    "                                  verbose=False)\n",
    "\n",
    "# summarize results\n",
    "print(\"Best: %f using %s\" % (xgb_regressor.best_score_, xgb_regressor.best_params_))"
   ]
  }
 ],
 "metadata": {
  "kernelspec": {
   "display_name": "Python 3",
   "language": "python",
   "name": "python3"
  },
  "language_info": {
   "codemirror_mode": {
    "name": "ipython",
    "version": 3
   },
   "file_extension": ".py",
   "mimetype": "text/x-python",
   "name": "python",
   "nbconvert_exporter": "python",
   "pygments_lexer": "ipython3",
   "version": "3.7.4"
  }
 },
 "nbformat": 4,
 "nbformat_minor": 2
}
