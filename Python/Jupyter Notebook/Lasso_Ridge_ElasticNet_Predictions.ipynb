{
 "cells": [
  {
   "cell_type": "code",
   "execution_count": 20,
   "metadata": {},
   "outputs": [
    {
     "name": "stdout",
     "output_type": "stream",
     "text": [
      "Training Features Shape: (4923, 1200)\n",
      "Training Labels Shape: (4923,)\n",
      "Testing Features Shape: (1642, 1200)\n",
      "Testing Labels Shape: (1642,)\n"
     ]
    }
   ],
   "source": [
    "import numpy as np \n",
    "import pandas as pd \n",
    "import matplotlib.pyplot as plt\n",
    "\n",
    "from sklearn.model_selection import train_test_split\n",
    "\n",
    "from sklearn.metrics import mean_absolute_error\n",
    "from sklearn.metrics import r2_score\n",
    "from sklearn.metrics import mean_squared_error\n",
    "from math import sqrt\n",
    "from sklearn.linear_model import Lasso\n",
    "from sklearn.linear_model import Ridge\n",
    "from sklearn.linear_model import ElasticNet\n",
    "\n",
    "from sklearn.ensemble import RandomForestRegressor\n",
    "\n",
    "df = pd.read_csv(\"df.csv\")\n",
    "del df[\"Unnamed: 0\"]\n",
    "df = df.rename({'1200': 'Sale Price'}, axis='columns')\n",
    "\n",
    "features = pd.get_dummies(df)\n",
    "labels = np.array(features['Sale Price'])\n",
    "\n",
    "# Remove the labels from the features\n",
    "# axis 1 refers to the columns\n",
    "features= features.drop('Sale Price', axis = 1)\n",
    "# Saving feature names for later use\n",
    "feature_list = list(features.columns)\n",
    "# Convert to numpy array\n",
    "features = np.array(features)\n",
    "\n",
    "# Split the data into training and testing sets\n",
    "train_features, test_features, train_labels, test_labels = train_test_split(features, labels, test_size = 0.25, random_state = 1337)\n",
    "\n",
    "print('Training Features Shape:', train_features.shape)\n",
    "print('Training Labels Shape:', train_labels.shape)\n",
    "print('Testing Features Shape:', test_features.shape)\n",
    "print('Testing Labels Shape:', test_labels.shape)"
   ]
  },
  {
   "cell_type": "code",
   "execution_count": 21,
   "metadata": {},
   "outputs": [
    {
     "name": "stdout",
     "output_type": "stream",
     "text": [
      "number of features used: 63\n",
      "RMSE: 326840.0\n"
     ]
    }
   ],
   "source": [
    "lasso = Lasso(alpha=199, max_iter=10000, selection = 'random', normalize = True, random_state = 1337)\n",
    "lasso.fit(train_features,train_labels)\n",
    "train_score=lasso.score(train_features,train_labels)\n",
    "test_score=lasso.score(test_features,test_labels)\n",
    "coeff_used = np.sum(lasso.coef_!=0)\n",
    "\n",
    "print(\"number of features used:\", coeff_used)\n",
    "predictions_lasso = lasso.predict(test_features)\n",
    "\n",
    "\n",
    "rmse_lasso = sqrt(mean_squared_error(predictions_lasso,test_labels))\n",
    "print(\"RMSE:\", round(rmse_lasso,2))"
   ]
  },
  {
   "cell_type": "code",
   "execution_count": 22,
   "metadata": {},
   "outputs": [
    {
     "name": "stdout",
     "output_type": "stream",
     "text": [
      "number of features used: 1200\n",
      "RMSE: 325304.27\n"
     ]
    }
   ],
   "source": [
    "ridge = Ridge(alpha=3, max_iter=10000, normalize = True, random_state = 1337)\n",
    "ridge.fit(train_features,train_labels)\n",
    "train_score=ridge.score(train_features,train_labels)\n",
    "test_score=ridge.score(test_features,test_labels)\n",
    "coeff_used = np.sum(ridge.coef_!=0)\n",
    "\n",
    "print(\"number of features used:\", coeff_used)\n",
    "predictions_ridge = ridge.predict(test_features)\n",
    "\n",
    "rmse_ridge = sqrt(mean_squared_error(predictions_ridge,test_labels))\n",
    "print(\"RMSE:\", round(rmse_ridge,2))"
   ]
  },
  {
   "cell_type": "code",
   "execution_count": 23,
   "metadata": {},
   "outputs": [
    {
     "name": "stdout",
     "output_type": "stream",
     "text": [
      "number of features used: 1200\n",
      "RMSE: 325621.51\n"
     ]
    }
   ],
   "source": [
    "EN = ElasticNet(alpha=0.01, max_iter=10000, normalize=True, l1_ratio = 0.8)\n",
    "EN.fit(train_features,train_labels)\n",
    "train_EN=EN.score(train_features,train_labels)\n",
    "test_EN=EN.score(test_features,test_labels)\n",
    "coeff_used = np.sum(EN.coef_!=0)\n",
    "\n",
    "print(\"number of features used:\", coeff_used)\n",
    "\n",
    "predictions_EN = EN.predict(test_features)\n",
    "rmse_EN = sqrt(mean_squared_error(predictions_EN,test_labels))\n",
    "print(\"RMSE:\", round(rmse_EN,2))"
   ]
  },
  {
   "cell_type": "code",
   "execution_count": 24,
   "metadata": {},
   "outputs": [
    {
     "name": "stdout",
     "output_type": "stream",
     "text": [
      "Training Features Shape: (19693, 13)\n",
      "Training Labels Shape: (19693,)\n",
      "Testing Features Shape: (6565, 13)\n",
      "Testing Labels Shape: (6565,)\n",
      "RMSE: 313438.23\n"
     ]
    }
   ],
   "source": [
    "df = pd.read_csv(\"data_clean.csv\")\n",
    "del df[\"Unnamed: 0\"]\n",
    "\n",
    "df = df[[\"gross_square_feet\",\"block\",\"land_square_feet\",\"lot\",\"age_of_building\",\"borough\",\"residential_units\",\"commercial_units\",\"total_units\",\"sale_price\"]]\n",
    "df['borough'] = df['borough'].astype('category')\n",
    "\n",
    "features = pd.get_dummies(df)\n",
    "labels = np.array(features['sale_price'])\n",
    "\n",
    "features= features.drop('sale_price', axis = 1)\n",
    "feature_list = list(features.columns)\n",
    "features = np.array(features)\n",
    "\n",
    "\n",
    "train_features_rf, test_features_rf, train_labels_rf, test_labels_rf = train_test_split(features, labels, test_size = 0.25, random_state = 1337)\n",
    "\n",
    "print('Training Features Shape:', train_features_rf.shape)\n",
    "print('Training Labels Shape:', train_labels_rf.shape)\n",
    "print('Testing Features Shape:', test_features_rf.shape)\n",
    "print('Testing Labels Shape:', test_labels_rf.shape)\n",
    "\n",
    "rf = RandomForestRegressor(n_estimators = 1200,\n",
    "                           min_samples_split = 10,\n",
    "                           min_samples_leaf = 2,\n",
    "                           max_features = 'auto',\n",
    "                           max_depth = 40,\n",
    "                           bootstrap = True,\n",
    "                           random_state = 1337)\n",
    "rf.fit(train_features_rf, train_labels_rf)\n",
    "predictions_rf = rf.predict(test_features_rf)\n",
    "\n",
    "\n",
    "rmse_rf = sqrt(mean_squared_error(predictions_rf,test_labels_rf))\n",
    "print(\"RMSE:\", round(rmse_rf,2))"
   ]
  },
  {
   "cell_type": "code",
   "execution_count": 25,
   "metadata": {},
   "outputs": [],
   "source": [
    "def perf(rmse,rmse_rf):   \n",
    "    ecart = ((rmse - rmse_rf)/(rmse_rf))*100\n",
    "    ecart = 100 - round(ecart,2)\n",
    "    print(\"Le Random Forest est plus performant de \" + str(ecart) + \"%\")\n",
    "\n",
    "def r2_score_(predictions,test_labels):\n",
    "    r2_score_rf = round(r2_score(predictions,test_labels),3)\n",
    "    print(\"Le R^2 est de: \" + str(r2_score_rf))\n",
    "\n",
    "def MAE(predictions,test_labels):\n",
    "    MAE = round(mean_absolute_error(predictions,test_labels),3)\n",
    "    print(\"Le MAE est de : \" + str(MAE))"
   ]
  },
  {
   "cell_type": "code",
   "execution_count": 26,
   "metadata": {},
   "outputs": [
    {
     "name": "stdout",
     "output_type": "stream",
     "text": [
      "Le Random Forest est plus performant de 95.72%\n",
      "Le Random Forest est plus performant de 96.21%\n",
      "Le Random Forest est plus performant de 96.11%\n"
     ]
    }
   ],
   "source": [
    "perf(rmse_lasso,rmse_rf)\n",
    "perf(rmse_ridge,rmse_rf)\n",
    "perf(rmse_EN,rmse_rf)"
   ]
  },
  {
   "cell_type": "code",
   "execution_count": 27,
   "metadata": {},
   "outputs": [
    {
     "name": "stdout",
     "output_type": "stream",
     "text": [
      "Le R^2 est de: 0.423\n",
      "Le R^2 est de: 0.401\n",
      "Le R^2 est de: 0.427\n",
      "Le R^2 est de: 0.416\n"
     ]
    }
   ],
   "source": [
    "r2_score_(predictions_rf,test_labels_rf)\n",
    "r2_score_(predictions_lasso,test_labels)\n",
    "r2_score_(predictions_ridge,test_labels)\n",
    "r2_score_(predictions_EN,test_labels)"
   ]
  },
  {
   "cell_type": "code",
   "execution_count": 28,
   "metadata": {},
   "outputs": [
    {
     "name": "stdout",
     "output_type": "stream",
     "text": [
      "Le MAE est de : 187206.597\n",
      "Le MAE est de : 191646.392\n",
      "Le MAE est de : 191184.405\n",
      "Le MAE est de : 191088.138\n"
     ]
    }
   ],
   "source": [
    "MAE(predictions_rf,test_labels_rf)\n",
    "MAE(predictions_lasso,test_labels)\n",
    "MAE(predictions_ridge,test_labels)\n",
    "MAE(predictions_EN,test_labels)\n"
   ]
  }
 ],
 "metadata": {
  "kernelspec": {
   "display_name": "Python 3",
   "language": "python",
   "name": "python3"
  },
  "language_info": {
   "codemirror_mode": {
    "name": "ipython",
    "version": 3
   },
   "file_extension": ".py",
   "mimetype": "text/x-python",
   "name": "python",
   "nbconvert_exporter": "python",
   "pygments_lexer": "ipython3",
   "version": "3.7.4"
  }
 },
 "nbformat": 4,
 "nbformat_minor": 2
}
