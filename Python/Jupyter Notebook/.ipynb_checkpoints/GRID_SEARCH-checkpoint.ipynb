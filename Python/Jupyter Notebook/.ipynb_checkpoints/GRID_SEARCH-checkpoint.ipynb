{
 "cells": [
  {
   "cell_type": "code",
   "execution_count": 2,
   "metadata": {},
   "outputs": [
    {
     "name": "stdout",
     "output_type": "stream",
     "text": [
      "Training Features Shape: (4923, 1200)\n",
      "Training Labels Shape: (4923,)\n",
      "Testing Features Shape: (1642, 1200)\n",
      "Testing Labels Shape: (1642,)\n"
     ]
    }
   ],
   "source": [
    "import numpy as np \n",
    "import pandas as pd \n",
    "import matplotlib.pyplot as plt\n",
    "\n",
    "# Using Skicit-learn to split data into training and testing sets\n",
    "from sklearn.model_selection import train_test_split\n",
    "\n",
    "df = pd.read_csv(\"df.csv\")\n",
    "del df[\"Unnamed: 0\"]\n",
    "df = df.rename({'1200': 'Sale Price'}, axis='columns')\n",
    "\n",
    "features = pd.get_dummies(df)\n",
    "labels = np.array(features['Sale Price'])\n",
    "\n",
    "# Remove the labels from the features\n",
    "# axis 1 refers to the columns\n",
    "features= features.drop('Sale Price', axis = 1)\n",
    "# Saving feature names for later use\n",
    "feature_list = list(features.columns)\n",
    "# Convert to numpy array\n",
    "features = np.array(features)\n",
    "\n",
    "# Split the data into training and testing sets\n",
    "train_features, test_features, train_labels, test_labels = train_test_split(features, labels, test_size = 0.25, random_state = 1337)\n",
    "\n",
    "print('Training Features Shape:', train_features.shape)\n",
    "print('Training Labels Shape:', train_labels.shape)\n",
    "print('Testing Features Shape:', test_features.shape)\n",
    "print('Testing Labels Shape:', test_labels.shape)"
   ]
  },
  {
   "cell_type": "code",
   "execution_count": 2,
   "metadata": {},
   "outputs": [
    {
     "name": "stdout",
     "output_type": "stream",
     "text": [
      "{'alpha': 199, 'max_iter': 10000, 'normalize': True, 'random_state': 1337, 'selection': 'random'}\n",
      "0.6555158964713417\n"
     ]
    }
   ],
   "source": [
    "from sklearn.model_selection import GridSearchCV\n",
    "from sklearn.linear_model import Lasso\n",
    "\n",
    "lasso  = Lasso()\n",
    "parameters = {'alpha':   [0.01,0.02,0.05,0.1,0.2,0.4,0.5,0.6,1,5,8,10,100,199,200,500, 750, 1000],\n",
    "              'selection': ['random'],\n",
    "              'max_iter': [10000],\n",
    "              'normalize': [True],\n",
    "              'random_state':[1337]}\n",
    "lasso_regressor = GridSearchCV(lasso, parameters, cv=3)\n",
    "lasso_regressor.fit(train_features,train_labels)\n",
    "\n",
    "print(lasso_regressor.best_params_)\n",
    "print(lasso_regressor.best_score_)"
   ]
  },
  {
   "cell_type": "code",
   "execution_count": 11,
   "metadata": {},
   "outputs": [
    {
     "name": "stdout",
     "output_type": "stream",
     "text": [
      "{'alpha': 3, 'max_iter': 10000, 'normalize': True, 'random_state': 1337}\n",
      "0.6604007224457411\n"
     ]
    }
   ],
   "source": [
    "from sklearn.model_selection import GridSearchCV\n",
    "from sklearn.linear_model import Ridge\n",
    "\n",
    "ridge = Ridge()\n",
    "parameters = {'alpha':   [0.01,0.1,0.5,1,2,3,4,5,6,7,8,10,12,15,20,30],\n",
    "              'max_iter': [10000],\n",
    "              'normalize': [True],\n",
    "              'random_state':[1337]}\n",
    "ridge_regressor = GridSearchCV(ridge,parameters,cv=3)\n",
    "ridge_regressor.fit(train_features,train_labels)\n",
    "\n",
    "print(ridge_regressor.best_params_)\n",
    "print(ridge_regressor.best_score_)"
   ]
  },
  {
   "cell_type": "code",
   "execution_count": 19,
   "metadata": {},
   "outputs": [
    {
     "name": "stdout",
     "output_type": "stream",
     "text": [
      "{'alpha': 0.01, 'l1_ratio': 0.8, 'max_iter': 10000, 'normalize': True, 'random_state': 1337, 'selection': 'random'}\n",
      "0.660069272862849\n"
     ]
    }
   ],
   "source": [
    "from sklearn.model_selection import GridSearchCV\n",
    "from sklearn.linear_model import ElasticNet\n",
    "\n",
    "EN  = ElasticNet()\n",
    "parameters = {'alpha':   [0.01,0.015,0.02,0.05,0.1,0.2,0.4,0.5,0.6,1,5,8,10],\n",
    "              'l1_ratio': [0.1,0.2,0.4,0.7,0.8],\n",
    "              'max_iter': [10000],\n",
    "              'normalize': [True],\n",
    "              'random_state':[1337],\n",
    "              'selection': ['random']}\n",
    "lasso_regressor = GridSearchCV(EN, parameters, cv=3)\n",
    "lasso_regressor.fit(train_features,train_labels)\n",
    "\n",
    "print(lasso_regressor.best_params_)\n",
    "print(lasso_regressor.best_score_)\n"
   ]
  }
 ],
 "metadata": {
  "kernelspec": {
   "display_name": "Python 3",
   "language": "python",
   "name": "python3"
  },
  "language_info": {
   "codemirror_mode": {
    "name": "ipython",
    "version": 3
   },
   "file_extension": ".py",
   "mimetype": "text/x-python",
   "name": "python",
   "nbconvert_exporter": "python",
   "pygments_lexer": "ipython3",
   "version": "3.7.4"
  }
 },
 "nbformat": 4,
 "nbformat_minor": 2
}
